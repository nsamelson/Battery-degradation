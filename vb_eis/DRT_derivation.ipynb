{
 "cells": [
  {
   "cell_type": "markdown",
   "metadata": {},
   "source": [
    "# Derivation of DRT\n",
    "\n",
    "For known transfer function (impedance model) $Z(j\\omega)$ the distribution of relaxation times can be obtained in closed form as:\n",
    "\n",
    "$\n",
    "G(u) = -\\frac{1}{\\pi}\\left( \\Im\\left\\{ Z\\left( \\exp\\left(-u-i\\frac{\\pi}{2}\\right) \\right) \\right\\} + \\Im\\left\\{ Z\\left( \\exp\\left(-u+i\\frac{\\pi}{2}\\right) \\right) \\right\\} \n",
    "\\right)\n",
    "$\n",
    "\n",
    "This can be easily implemented using ```sympy``` package from Python."
   ]
  },
  {
   "cell_type": "code",
   "execution_count": 1,
   "metadata": {},
   "outputs": [],
   "source": [
    "import sympy as sp\n",
    "import numpy as np\n",
    "import matplotlib.pyplot as plt"
   ]
  },
  {
   "cell_type": "code",
   "execution_count": 2,
   "metadata": {},
   "outputs": [],
   "source": [
    "[w, t]=sp.symbols('omega T',positive=True)\n",
    "s_R = []\n",
    "s_alpha = []\n",
    "s_tau = []\n",
    "s_Rs = sp.symbols('Rs', positive=True)\n",
    "n_dim = 1\n",
    "\n",
    "R = sp.symbols(f'R', positive=True)\n",
    "alpha = sp.symbols(f'alpha', positive=True)\n",
    "tau = sp.symbols(f'tau', positive=True)\n",
    "\n",
    "s_Z = s_Rs + R/(1+(tau*sp.I*w)**alpha)\n",
    "\n",
    "s_drt =-1/sp.pi*( sp.im(s_Z.subs(w,sp.exp(-t-sp.I*sp.pi/2)))+sp.im(s_Z.subs(w,sp.exp(-t+sp.I*sp.pi/2) )))\n",
    "drt =-1/sp.pi*( sp.im(s_Z.subs(w,sp.exp(-t-sp.I*sp.pi/2)))+sp.im(s_Z.subs(w,sp.exp(-t+sp.I*sp.pi/2) )))"
   ]
  },
  {
   "cell_type": "code",
   "execution_count": 3,
   "metadata": {},
   "outputs": [
    {
     "data": {
      "text/latex": [
       "$\\displaystyle \\frac{R}{\\left(i \\omega \\tau\\right)^{\\alpha} + 1} + Rs$"
      ],
      "text/plain": [
       "R/((I*omega*tau)**alpha + 1) + Rs"
      ]
     },
     "execution_count": 3,
     "metadata": {},
     "output_type": "execute_result"
    }
   ],
   "source": [
    "s_Z"
   ]
  },
  {
   "cell_type": "code",
   "execution_count": 4,
   "metadata": {},
   "outputs": [
    {
     "data": {
      "text/latex": [
       "$\\displaystyle - \\frac{R \\tau^{\\alpha} e^{T \\alpha} \\sin{\\left(\\pi \\alpha \\right)}}{\\pi \\left(\\tau^{2 \\alpha} + 2 \\tau^{\\alpha} e^{T \\alpha} \\cos{\\left(\\pi \\alpha \\right)} + e^{2 T \\alpha}\\right)}$"
      ],
      "text/plain": [
       "-R*tau**alpha*exp(T*alpha)*sin(pi*alpha)/(pi*(tau**(2*alpha) + 2*tau**alpha*exp(T*alpha)*cos(pi*alpha) + exp(2*T*alpha)))"
      ]
     },
     "execution_count": 4,
     "metadata": {},
     "output_type": "execute_result"
    }
   ],
   "source": [
    "drt.subs((-1)**alpha,sp.exp(-1*sp.I*sp.pi*alpha)).simplify()"
   ]
  },
  {
   "cell_type": "markdown",
   "metadata": {},
   "source": [
    "# Pole importance through DRT"
   ]
  },
  {
   "cell_type": "code",
   "execution_count": 5,
   "metadata": {},
   "outputs": [],
   "source": [
    "def get_drt_f(Rs, R, tau, alfa, n_dim):\n",
    "    [w, t]=sp.symbols('omega T',positive=True)\n",
    "    s_R = []\n",
    "    s_alpha = []\n",
    "    s_tau = []\n",
    "    s_Rs = sp.symbols('Rs', positive=True)\n",
    "    for poles in range(n_dim):\n",
    "        s_R.append(sp.symbols(f'R_{poles}', positive=True))\n",
    "        s_alpha.append(sp.symbols(f'alpha_{poles}', positive=True))\n",
    "        s_tau.append(sp.symbols(f'tau_{poles}', positive=True))\n",
    "\n",
    "    s_Z = s_Rs + sum([s_R[i]/(1+(s_tau[i]*sp.I*w)**s_alpha[i]) for i in range(n_dim)])\n",
    "\n",
    "\n",
    "    s_drt =-1/sp.pi*( sp.im(s_Z.subs(w,sp.exp(-t-sp.I*sp.pi/2)))+sp.im(s_Z.subs(w,sp.exp(-t+sp.I*sp.pi/2) )))\n",
    "    drt_f = s_drt.subs(s_Rs,Rs)#.subs(s_alpha[0],0.8).subs(s_R[0],1).subs(s_tau[0],2.8)\n",
    "\n",
    "    # # drt_f = s_drt.subs(s_Rs,Rs_t).subs(s_R[0],.25e-2).subs(s_tau[0],50).subs(s_alpha[0],0.9)\n",
    "\n",
    "\n",
    "    for i in range(n_dim):\n",
    "        drt_f = drt_f.subs(s_R[i],R[i])\n",
    "        drt_f = drt_f.subs(s_alpha[i],alfa[i])\n",
    "        drt_f = drt_f.subs(s_tau[i],tau[i])\n",
    "    return sp.lambdify(t,drt_f,\"numpy\")"
   ]
  },
  {
   "cell_type": "code",
   "execution_count": 7,
   "metadata": {},
   "outputs": [],
   "source": [
    "f_e = get_drt_f( 2e-3, [1.], [.005], [.9], 1)\n",
    "f_e2 = get_drt_f( 2e-3, [1.], [1.], [.6], 1)\n",
    "f_e3 = get_drt_f( 2e-3, [.5], [.0007], [.6], 1)\n",
    "\n",
    "sp_tau = np.logspace(-5,3,1000)\n",
    "sp_T = np.log(sp_tau)\n",
    "inter = np.power(sp_tau, -1)\n",
    "sp_tau_int = np.linspace(inter.min(), inter.max(), 1000)"
   ]
  },
  {
   "cell_type": "code",
   "execution_count": 8,
   "metadata": {},
   "outputs": [
    {
     "data": {
      "text/plain": [
       "<matplotlib.legend.Legend at 0x1185eea50>"
      ]
     },
     "execution_count": 8,
     "metadata": {},
     "output_type": "execute_result"
    },
    {
     "data": {
      "image/png": "[encoded data removed]",
      "text/plain": [
       "<Figure size 312.5x200 with 1 Axes>"
      ]
     },
     "metadata": {},
     "output_type": "display_data"
    }
   ],
   "source": [
    "fig = plt.figure(figsize=(6.25/2,4/2))\n",
    "fig.set_constrained_layout(True)\n",
    "plt.semilogx(np.power(sp_tau,-1),f_e(sp_T),label=r'$R=1,\\alpha=0.9$',linewidth=1,alpha=.5)\n",
    "plt.semilogx(np.power(sp_tau,-1),f_e2(sp_T),label=r'$R=1,\\alpha=0.6$',linewidth=1,alpha=.5)\n",
    "plt.semilogx(np.power(sp_tau,-1),f_e3(sp_T),label=r'$R=0.5,\\alpha=0.6$',linewidth=1,alpha=.5)\n",
    "plt.fill_between(np.power(sp_tau,-1),f_e(sp_T),linewidth=1,alpha=.5)\n",
    "plt.fill_between(np.power(sp_tau,-1),f_e2(sp_T),linewidth=1,alpha=.5)\n",
    "plt.fill_between(np.power(sp_tau,-1),f_e3(sp_T),linewidth=1,alpha=.5)\n",
    "\n",
    "\n",
    "plt.xscale('log')\n",
    "plt.ylim(0,1.05)\n",
    "plt.minorticks_off()\n",
    "plt.tick_params(axis='both', which='both', direction='in')\n",
    "plt.xlabel(r'$u^{-1}$ [Hz]')\n",
    "plt.ylabel(r'$G(u)$')\n",
    "plt.legend(loc='upper left',frameon=False)"
   ]
  },
  {
   "cell_type": "code",
   "execution_count": null,
   "metadata": {},
   "outputs": [],
   "source": []
  }
 ],
 "metadata": {
  "kernelspec": {
   "display_name": "PZPZ",
   "language": "python",
   "name": "python3"
  },
  "language_info": {
   "codemirror_mode": {
    "name": "ipython",
    "version": 3
   },
   "file_extension": ".py",
   "mimetype": "text/x-python",
   "name": "python",
   "nbconvert_exporter": "python",
   "pygments_lexer": "ipython3",
   "version": "3.11.5"
  }
 },
 "nbformat": 4,
 "nbformat_minor": 2
}
